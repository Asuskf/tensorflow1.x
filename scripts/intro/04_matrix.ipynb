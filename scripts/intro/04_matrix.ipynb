{
  "nbformat": 4,
  "nbformat_minor": 0,
  "metadata": {
    "colab": {
      "name": "04-matrix.ipynb",
      "provenance": [],
      "authorship_tag": "ABX9TyO3FBxCxgrGuq3g7lJcNDvA",
      "include_colab_link": true
    },
    "kernelspec": {
      "name": "python3",
      "display_name": "Python 3"
    }
  },
  "cells": [
    {
      "cell_type": "markdown",
      "metadata": {
        "id": "view-in-github",
        "colab_type": "text"
      },
      "source": [
        "<a href=\"https://colab.research.google.com/github/Asuskf/tensorflow1.x/blob/main/scripts/intro/04_matrix.ipynb\" target=\"_parent\"><img src=\"https://colab.research.google.com/assets/colab-badge.svg\" alt=\"Open In Colab\"/></a>"
      ]
    },
    {
      "cell_type": "code",
      "metadata": {
        "colab": {
          "base_uri": "https://localhost:8080/"
        },
        "id": "wG6CDWKWaNEt",
        "outputId": "4dbde77b-65b8-42fc-c0e6-57b47427d3df"
      },
      "source": [
        "#!pip install tensorflow==1.14\n",
        "%tensorflow_version 1.x\n",
        "import numpy as np\n",
        "import tensorflow as tf\n",
        "print(tf.__version__)"
      ],
      "execution_count": 9,
      "outputs": [
        {
          "output_type": "stream",
          "text": [
            "1.15.2\n"
          ],
          "name": "stdout"
        }
      ]
    },
    {
      "cell_type": "markdown",
      "metadata": {
        "id": "HTb2tWOwazhZ"
      },
      "source": [
        "## Cómo trabajar con matrices\n"
      ]
    },
    {
      "cell_type": "code",
      "metadata": {
        "id": "FClZ6BfyaQAr"
      },
      "source": [
        "session = tf.Session()"
      ],
      "execution_count": 2,
      "outputs": []
    },
    {
      "cell_type": "markdown",
      "metadata": {
        "id": "_IjAivtLa-DX"
      },
      "source": [
        "### 1. Cómo crear mactrices"
      ]
    },
    {
      "cell_type": "code",
      "metadata": {
        "colab": {
          "base_uri": "https://localhost:8080/"
        },
        "id": "ZQyDobfEa6_G",
        "outputId": "b9f1bfe0-fcba-443b-b0d8-06c14a1c9b2b"
      },
      "source": [
        "identity = tf.diag([1., 1., 1., 1.])\n",
        "print(session.run(identity))"
      ],
      "execution_count": 22,
      "outputs": [
        {
          "output_type": "stream",
          "text": [
            "[[1. 0. 0. 0.]\n",
            " [0. 1. 0. 0.]\n",
            " [0. 0. 1. 0.]\n",
            " [0. 0. 0. 1.]]\n"
          ],
          "name": "stdout"
        }
      ]
    },
    {
      "cell_type": "code",
      "metadata": {
        "colab": {
          "base_uri": "https://localhost:8080/"
        },
        "id": "NX4r-jZPbNgH",
        "outputId": "8db8818e-8351-430c-eb97-fdad45d396c6"
      },
      "source": [
        "A = tf.truncated_normal([3, 4])\n",
        "print(session.run(A))"
      ],
      "execution_count": 14,
      "outputs": [
        {
          "output_type": "stream",
          "text": [
            "[[-0.5655614   0.26749215  1.8319795   1.8368407 ]\n",
            " [-0.06653576 -0.11025794  0.7653535   0.4473987 ]\n",
            " [-1.1131717   0.7483441  -0.052915   -0.33911777]]\n"
          ],
          "name": "stdout"
        }
      ]
    },
    {
      "cell_type": "code",
      "metadata": {
        "colab": {
          "base_uri": "https://localhost:8080/"
        },
        "id": "dwrH-8HSbZGG",
        "outputId": "b53f8440-6e56-44c0-a455-2c35812cdc6e"
      },
      "source": [
        "B = tf.fill([3, 4], 1988.)\n",
        "print(session.run(B))"
      ],
      "execution_count": 17,
      "outputs": [
        {
          "output_type": "stream",
          "text": [
            "[[1988. 1988. 1988. 1988.]\n",
            " [1988. 1988. 1988. 1988.]\n",
            " [1988. 1988. 1988. 1988.]]\n"
          ],
          "name": "stdout"
        }
      ]
    },
    {
      "cell_type": "code",
      "metadata": {
        "colab": {
          "base_uri": "https://localhost:8080/"
        },
        "id": "7tnmNts_bf5u",
        "outputId": "3951fd0e-cf03-4c4f-ef37-a605a438d78e"
      },
      "source": [
        "C = tf.random_uniform([4, 3])\n",
        "print(session.run(C))"
      ],
      "execution_count": 13,
      "outputs": [
        {
          "output_type": "stream",
          "text": [
            "[[0.31932366 0.63871753 0.18426776]\n",
            " [0.7483454  0.49268842 0.01332593]\n",
            " [0.8648361  0.2488364  0.23892522]\n",
            " [0.77341115 0.3161173  0.04193199]]\n"
          ],
          "name": "stdout"
        }
      ]
    },
    {
      "cell_type": "code",
      "metadata": {
        "colab": {
          "base_uri": "https://localhost:8080/"
        },
        "id": "HIAtNUkWblxI",
        "outputId": "d99da9a9-1369-4e74-9921-e18f0130f04a"
      },
      "source": [
        "data = np.array([[1., 2., 3.], [4., 5., 6.], [7., 8., 9]])\n",
        "D = tf.convert_to_tensor(data)\n",
        "print(session.run(D))"
      ],
      "execution_count": 12,
      "outputs": [
        {
          "output_type": "stream",
          "text": [
            "[[1. 2. 3.]\n",
            " [4. 5. 6.]\n",
            " [7. 8. 9.]]\n"
          ],
          "name": "stdout"
        }
      ]
    },
    {
      "cell_type": "markdown",
      "metadata": {
        "id": "ykO1x7nGcTbB"
      },
      "source": [
        "### 2. Operar con matrices\n"
      ]
    },
    {
      "cell_type": "code",
      "metadata": {
        "colab": {
          "base_uri": "https://localhost:8080/"
        },
        "id": "9j4NKc9Rb7WN",
        "outputId": "c36b5a91-ed32-41ef-bad4-4fc531b9766a"
      },
      "source": [
        "print(session.run(A+B))"
      ],
      "execution_count": 18,
      "outputs": [
        {
          "output_type": "stream",
          "text": [
            "[[1989.1232 1988.8629 1987.3734 1987.9147]\n",
            " [1989.0311 1986.3004 1986.9943 1988.2441]\n",
            " [1989.2754 1987.7926 1989.1865 1986.6212]]\n"
          ],
          "name": "stdout"
        }
      ]
    },
    {
      "cell_type": "code",
      "metadata": {
        "colab": {
          "base_uri": "https://localhost:8080/"
        },
        "id": "JFvWBD0jcawz",
        "outputId": "25c0c436-6885-4231-bbcf-3fbb5109f736"
      },
      "source": [
        "print(session.run(B-B))"
      ],
      "execution_count": 19,
      "outputs": [
        {
          "output_type": "stream",
          "text": [
            "[[0. 0. 0. 0.]\n",
            " [0. 0. 0. 0.]\n",
            " [0. 0. 0. 0.]]\n"
          ],
          "name": "stdout"
        }
      ]
    },
    {
      "cell_type": "code",
      "metadata": {
        "colab": {
          "base_uri": "https://localhost:8080/"
        },
        "id": "j9LeeOIFch95",
        "outputId": "172b77f2-9f23-4748-ed4c-a8c02161dfe0"
      },
      "source": [
        "print(session.run(tf.matmul(A, C)))"
      ],
      "execution_count": 20,
      "outputs": [
        {
          "output_type": "stream",
          "text": [
            "[[-0.32509112 -0.34710845 -0.17103252]\n",
            " [-0.7028665  -1.3590957  -2.0380337 ]\n",
            " [-0.13352877 -0.851299   -0.22920215]]\n"
          ],
          "name": "stdout"
        }
      ]
    },
    {
      "cell_type": "code",
      "metadata": {
        "colab": {
          "base_uri": "https://localhost:8080/"
        },
        "id": "YdxkdJKVcqC0",
        "outputId": "7faf214c-2241-4a11-da6e-685070a56b98"
      },
      "source": [
        "print(session.run(tf.matmul(A, identity)))"
      ],
      "execution_count": 23,
      "outputs": [
        {
          "output_type": "stream",
          "text": [
            "[[-0.04317479  0.18542339 -0.3860934   1.0100802 ]\n",
            " [ 1.2851557   0.36101422 -0.81879973 -0.04744078]\n",
            " [-1.1484852   0.10882577 -0.93051416 -0.44386774]]\n"
          ],
          "name": "stdout"
        }
      ]
    },
    {
      "cell_type": "markdown",
      "metadata": {
        "id": "_ELCss-_dLhz"
      },
      "source": [
        "### 3. Transpuesta y determinante, inversa"
      ]
    },
    {
      "cell_type": "code",
      "metadata": {
        "colab": {
          "base_uri": "https://localhost:8080/"
        },
        "id": "rNzt3A5ocx50",
        "outputId": "2b2a605a-ae85-4535-d869-1f08e48d30d0"
      },
      "source": [
        "print(session.run(tf.transpose(D)))"
      ],
      "execution_count": 24,
      "outputs": [
        {
          "output_type": "stream",
          "text": [
            "[[1. 4. 7.]\n",
            " [2. 5. 8.]\n",
            " [3. 6. 9.]]\n"
          ],
          "name": "stdout"
        }
      ]
    },
    {
      "cell_type": "code",
      "metadata": {
        "colab": {
          "base_uri": "https://localhost:8080/"
        },
        "id": "ZeSMJCBVda6O",
        "outputId": "1002d822-7f58-4618-9af0-812d66ac96ac"
      },
      "source": [
        "print(session.run(tf.transpose(A)))"
      ],
      "execution_count": 25,
      "outputs": [
        {
          "output_type": "stream",
          "text": [
            "[[ 0.8526107   0.2912751  -1.1226834 ]\n",
            " [-1.9868896  -0.69619876  0.5876468 ]\n",
            " [ 0.5912135   1.0927222  -1.6409456 ]\n",
            " [ 0.23188202  0.5081153   0.8664435 ]]\n"
          ],
          "name": "stdout"
        }
      ]
    },
    {
      "cell_type": "code",
      "metadata": {
        "colab": {
          "base_uri": "https://localhost:8080/"
        },
        "id": "cnr66Efxde-Q",
        "outputId": "128e5952-ec35-47f0-b2c7-c21ffe03bcdf"
      },
      "source": [
        "print(session.run(tf.matrix_determinant(D)))"
      ],
      "execution_count": 26,
      "outputs": [
        {
          "output_type": "stream",
          "text": [
            "-9.51619735392994e-16\n"
          ],
          "name": "stdout"
        }
      ]
    },
    {
      "cell_type": "code",
      "metadata": {
        "colab": {
          "base_uri": "https://localhost:8080/"
        },
        "id": "W70heShRe4H5",
        "outputId": "b5c5dc99-9f1f-484a-cf33-958f59113047"
      },
      "source": [
        "E = tf.convert_to_tensor(np.array([[1., 2., 3.], [-3., -6., -1], [0., 5, -3]]))\n",
        "print(session.run(tf.matrix_determinant(E)))"
      ],
      "execution_count": 30,
      "outputs": [
        {
          "output_type": "stream",
          "text": [
            "-40.0\n"
          ],
          "name": "stdout"
        }
      ]
    },
    {
      "cell_type": "code",
      "metadata": {
        "colab": {
          "base_uri": "https://localhost:8080/"
        },
        "id": "VZefnx8qgdG9",
        "outputId": "b861da9d-cb21-4b45-e5ad-3c7dc497f67d"
      },
      "source": [
        "print(session.run(tf.matrix_inverse(D)))"
      ],
      "execution_count": 31,
      "outputs": [
        {
          "output_type": "stream",
          "text": [
            "[[ 3.15251974e+15 -6.30503948e+15  3.15251974e+15]\n",
            " [-6.30503948e+15  1.26100790e+16 -6.30503948e+15]\n",
            " [ 3.15251974e+15 -6.30503948e+15  3.15251974e+15]]\n"
          ],
          "name": "stdout"
        }
      ]
    },
    {
      "cell_type": "code",
      "metadata": {
        "colab": {
          "base_uri": "https://localhost:8080/"
        },
        "id": "iwus4y5Ug7P9",
        "outputId": "2be60bb5-3d63-4202-e23d-826b3f9427c4"
      },
      "source": [
        "print(session.run(tf.matrix_inverse(E)))"
      ],
      "execution_count": 32,
      "outputs": [
        {
          "output_type": "stream",
          "text": [
            "[[-5.75000000e-01 -5.25000000e-01 -4.00000000e-01]\n",
            " [ 2.25000000e-01  7.50000000e-02  2.00000000e-01]\n",
            " [ 3.75000000e-01  1.25000000e-01 -8.32667268e-18]]\n"
          ],
          "name": "stdout"
        }
      ]
    },
    {
      "cell_type": "markdown",
      "metadata": {
        "id": "bbvUJpe7hIYz"
      },
      "source": [
        "### 4. Descomposución"
      ]
    },
    {
      "cell_type": "code",
      "metadata": {
        "colab": {
          "base_uri": "https://localhost:8080/"
        },
        "id": "SpO2rWELg9Y0",
        "outputId": "e88b77b3-ec4e-4887-d0b2-607b64c3bbe4"
      },
      "source": [
        "print(session.run(tf.cholesky(identity)))"
      ],
      "execution_count": 33,
      "outputs": [
        {
          "output_type": "stream",
          "text": [
            "[[1. 0. 0. 0.]\n",
            " [0. 1. 0. 0.]\n",
            " [0. 0. 1. 0.]\n",
            " [0. 0. 0. 1.]]\n"
          ],
          "name": "stdout"
        }
      ]
    },
    {
      "cell_type": "markdown",
      "metadata": {
        "id": "QsJafkbQhVbp"
      },
      "source": [
        "### 5. Valores y vectores propios"
      ]
    },
    {
      "cell_type": "code",
      "metadata": {
        "colab": {
          "base_uri": "https://localhost:8080/"
        },
        "id": "yAyL71OzhP3E",
        "outputId": "bced6ec0-c6c5-49ee-96fc-fb3e5ff02ad1"
      },
      "source": [
        "print(session.run(tf.self_adjoint_eigvals(E)))"
      ],
      "execution_count": 34,
      "outputs": [
        {
          "output_type": "stream",
          "text": [
            "[-10.24888536  -0.66882335   2.91770871]\n"
          ],
          "name": "stdout"
        }
      ]
    },
    {
      "cell_type": "code",
      "metadata": {
        "colab": {
          "base_uri": "https://localhost:8080/"
        },
        "id": "l3FW__muhcZI",
        "outputId": "eb7febb7-1086-46b1-b060-712a9db37f7a"
      },
      "source": [
        "print(session.run(tf.self_adjoint_eig(E)))"
      ],
      "execution_count": 35,
      "outputs": [
        {
          "output_type": "stream",
          "text": [
            "(array([-10.24888536,  -0.66882335,   2.91770871]), array([[ 0.21442787,  0.60489799, -0.76688924],\n",
            "       [ 0.80402486,  0.3364893 ,  0.49022339],\n",
            "       [-0.55458517,  0.72171557,  0.41420034]]))\n"
          ],
          "name": "stdout"
        }
      ]
    },
    {
      "cell_type": "code",
      "metadata": {
        "id": "Z1URIvn3hfar"
      },
      "source": [
        ""
      ],
      "execution_count": null,
      "outputs": []
    }
  ]
}