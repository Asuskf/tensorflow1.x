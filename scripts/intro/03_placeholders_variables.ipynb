{
  "nbformat": 4,
  "nbformat_minor": 0,
  "metadata": {
    "colab": {
      "name": "03-placeholders-variables.ipynb",
      "provenance": [],
      "authorship_tag": "ABX9TyPNBJhExPgUpIR8RzoqnKtt",
      "include_colab_link": true
    },
    "kernelspec": {
      "name": "python3",
      "display_name": "Python 3"
    }
  },
  "cells": [
    {
      "cell_type": "markdown",
      "metadata": {
        "id": "view-in-github",
        "colab_type": "text"
      },
      "source": [
        "<a href=\"https://colab.research.google.com/github/Asuskf/tensorflow1.x/blob/main/scripts/intro/03_placeholders_variables.ipynb\" target=\"_parent\"><img src=\"https://colab.research.google.com/assets/colab-badge.svg\" alt=\"Open In Colab\"/></a>"
      ]
    },
    {
      "cell_type": "code",
      "metadata": {
        "colab": {
          "base_uri": "https://localhost:8080/"
        },
        "id": "HfvDZ-v-IgKR",
        "outputId": "abbfaaa2-b4e9-4b6b-d8ae-bd953f0d9f8c"
      },
      "source": [
        "#!pip install tensorflow==1.14\n",
        "%tensorflow_version 1.x"
      ],
      "execution_count": 1,
      "outputs": [
        {
          "output_type": "stream",
          "text": [
            "TensorFlow 1.x selected.\n"
          ],
          "name": "stdout"
        }
      ]
    },
    {
      "cell_type": "code",
      "metadata": {
        "colab": {
          "base_uri": "https://localhost:8080/"
        },
        "id": "BrpntOajIqbO",
        "outputId": "45868308-e075-43b3-9d92-32888c055df7"
      },
      "source": [
        "import numpy as np\n",
        "import tensorflow as tf\n",
        "print(tf.__version__)"
      ],
      "execution_count": 8,
      "outputs": [
        {
          "output_type": "stream",
          "text": [
            "1.15.2\n"
          ],
          "name": "stdout"
        }
      ]
    },
    {
      "cell_type": "markdown",
      "metadata": {
        "id": "ucvFiV6tJjGa"
      },
      "source": [
        "## Variables vs Placeholders\n",
        "### Variables\n",
        "- Parámetros del modelo, o el algoritmo, TF los utiliza para optimizar el resultado de nuestro algoritmo."
      ]
    },
    {
      "cell_type": "code",
      "metadata": {
        "id": "0nyvCXPIJm6l"
      },
      "source": [
        "my_var = tf.Variable(tf.zeros([3, 4]))\n",
        "session = tf.Session()\n",
        "inits = tf.global_variables_initializer()\n",
        "session.run(inits)"
      ],
      "execution_count": 7,
      "outputs": []
    },
    {
      "cell_type": "markdown",
      "metadata": {
        "id": "QFlPxxttIxvG"
      },
      "source": [
        "\n",
        "\n",
        "### Placeholders\n",
        "- Objeto que permite recibir información de un tipo y tamaño concreto.\n",
        "\n",
        "\n"
      ]
    },
    {
      "cell_type": "code",
      "metadata": {
        "colab": {
          "base_uri": "https://localhost:8080/"
        },
        "id": "mm7hPQZ5IsJ_",
        "outputId": "5d6b8430-6ef9-47a1-994c-56ca758342d7"
      },
      "source": [
        "x_vals = np.random.rand(2, 2)\n",
        "session = tf.Session()\n",
        "x = tf.placeholder(tf.float32, shape=[2,2])\n",
        "y = tf.identity(x)\n",
        "session.run(y, feed_dict={x: x_vals})"
      ],
      "execution_count": 9,
      "outputs": [
        {
          "output_type": "execute_result",
          "data": {
            "text/plain": [
              "array([[0.35563332, 0.9954172 ],\n",
              "       [0.04756028, 0.4390467 ]], dtype=float32)"
            ]
          },
          "metadata": {
            "tags": []
          },
          "execution_count": 9
        }
      ]
    },
    {
      "cell_type": "markdown",
      "metadata": {
        "id": "nWRcgDSfOCex"
      },
      "source": [
        "### Varias inicializaciones dependientes\n"
      ]
    },
    {
      "cell_type": "code",
      "metadata": {
        "id": "4MwXRw9cL5J5"
      },
      "source": [
        "session = tf.Session()\n",
        "first_var = tf.Variable(tf.zeros([3, 4]))\n",
        "session.run(first_var. initializer)\n",
        "second_var = tf.Variable(tf.zeros_like(first_var))\n",
        "session.run(second_var.initializer)"
      ],
      "execution_count": 10,
      "outputs": []
    },
    {
      "cell_type": "code",
      "metadata": {
        "colab": {
          "base_uri": "https://localhost:8080/"
        },
        "id": "5Lb7r-XCOpQx",
        "outputId": "9a3228cf-aefd-4010-d1d1-ab964a99d410"
      },
      "source": [
        "second_var"
      ],
      "execution_count": 11,
      "outputs": [
        {
          "output_type": "execute_result",
          "data": {
            "text/plain": [
              "<tf.Variable 'Variable_6:0' shape=(3, 4) dtype=float32_ref>"
            ]
          },
          "metadata": {
            "tags": []
          },
          "execution_count": 11
        }
      ]
    },
    {
      "cell_type": "code",
      "metadata": {
        "id": "fQyIMfQ4OszK"
      },
      "source": [
        ""
      ],
      "execution_count": null,
      "outputs": []
    }
  ]
}