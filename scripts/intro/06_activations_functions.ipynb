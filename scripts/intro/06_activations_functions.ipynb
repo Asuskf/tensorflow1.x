{
  "nbformat": 4,
  "nbformat_minor": 0,
  "metadata": {
    "colab": {
      "name": "06-activations-functions.ipynb",
      "provenance": [],
      "authorship_tag": "ABX9TyNEbI0sjXgVywSbnk0dgYYr",
      "include_colab_link": true
    },
    "kernelspec": {
      "name": "python3",
      "display_name": "Python 3"
    }
  },
  "cells": [
    {
      "cell_type": "markdown",
      "metadata": {
        "id": "view-in-github",
        "colab_type": "text"
      },
      "source": [
        "<a href=\"https://colab.research.google.com/github/Asuskf/tensorflow1.x/blob/main/scripts/intro/06_activations_functions.ipynb\" target=\"_parent\"><img src=\"https://colab.research.google.com/assets/colab-badge.svg\" alt=\"Open In Colab\"/></a>"
      ]
    },
    {
      "cell_type": "markdown",
      "metadata": {
        "id": "tpW6TaMJVOcz"
      },
      "source": [
        "### Funciones de activación"
      ]
    },
    {
      "cell_type": "code",
      "metadata": {
        "colab": {
          "base_uri": "https://localhost:8080/"
        },
        "id": "ZRP6w0aEUwtf",
        "outputId": "4557567f-1244-445d-bf4c-0a622ee2254b"
      },
      "source": [
        "#!pip install tensorflow==1.14\r\n",
        "%tensorflow_version 1.x\r\n",
        "import numpy as np\r\n",
        "import tensorflow as tf\r\n",
        "import tensorflow.nn as nn\r\n",
        "print(tf.__version__)"
      ],
      "execution_count": 1,
      "outputs": [
        {
          "output_type": "stream",
          "text": [
            "TensorFlow 1.x selected.\n",
            "1.15.2\n"
          ],
          "name": "stdout"
        }
      ]
    },
    {
      "cell_type": "code",
      "metadata": {
        "id": "2HaByMZ-VZD3"
      },
      "source": [
        "session = tf.Session()"
      ],
      "execution_count": 2,
      "outputs": []
    },
    {
      "cell_type": "markdown",
      "metadata": {
        "id": "z0KEhO4nVnsJ"
      },
      "source": [
        "### Función ReLU\r\n",
        "- Contínua\r\n",
        "- No derivable\r\n",
        "\r\n",
        "$$f(x) = max(0, x)$$"
      ]
    },
    {
      "cell_type": "code",
      "metadata": {
        "colab": {
          "base_uri": "https://localhost:8080/"
        },
        "id": "KtLi4UKiVdqv",
        "outputId": "696d3a6e-bac2-4f65-ea41-46c9c8ff7ba5"
      },
      "source": [
        "print(session.run(nn.relu([-5., 5., 15.])))"
      ],
      "execution_count": 3,
      "outputs": [
        {
          "output_type": "stream",
          "text": [
            "[ 0.  5. 15.]\n"
          ],
          "name": "stdout"
        }
      ]
    },
    {
      "cell_type": "markdown",
      "metadata": {
        "id": "89K9JzcWZlEW"
      },
      "source": [
        "$$f(x) = min(max(0, x), 6)$$"
      ]
    },
    {
      "cell_type": "code",
      "metadata": {
        "colab": {
          "base_uri": "https://localhost:8080/"
        },
        "id": "DlVkXPqWZW4J",
        "outputId": "f7518481-db63-4357-af3f-2e00ab400a82"
      },
      "source": [
        "print(session.run(nn.relu6([-5., 5., 15.])))"
      ],
      "execution_count": 4,
      "outputs": [
        {
          "output_type": "stream",
          "text": [
            "[0. 5. 6.]\n"
          ],
          "name": "stdout"
        }
      ]
    },
    {
      "cell_type": "markdown",
      "metadata": {
        "id": "F0_yoFcRZ7Il"
      },
      "source": [
        "### Función sigmoide (logística)\r\n",
        "- Contínua\r\n",
        "- Derivable\r\n",
        "- Rango de valores $(0, 1)$\r\n",
        "$$f(x) = \\frac{1}{1+e^{-x}}$$"
      ]
    },
    {
      "cell_type": "code",
      "metadata": {
        "colab": {
          "base_uri": "https://localhost:8080/"
        },
        "id": "QlbAJJe0Zjrw",
        "outputId": "86a1965b-633e-4df8-8168-d21b4256eb2d"
      },
      "source": [
        "print(session.run(nn.sigmoid([-2., -1., 0, 1., 2.])))"
      ],
      "execution_count": 5,
      "outputs": [
        {
          "output_type": "stream",
          "text": [
            "[0.11920292 0.26894143 0.5        0.7310586  0.880797  ]\n"
          ],
          "name": "stdout"
        }
      ]
    },
    {
      "cell_type": "markdown",
      "metadata": {
        "id": "Mpiwq5apb-w8"
      },
      "source": [
        "### Función Tangente hiperbólica\r\n",
        "- Contínua\r\n",
        "- Derivable\r\n",
        "- Rango de valores $(-1, 1)$\r\n",
        "\r\n",
        "$$f(x) = tanh(x) = \\frac{e^x-e^{-x}}{e^x + e^{-x}}$$"
      ]
    },
    {
      "cell_type": "code",
      "metadata": {
        "colab": {
          "base_uri": "https://localhost:8080/"
        },
        "id": "UZE15MxVbwBU",
        "outputId": "c0377f34-7b24-45b3-a460-47c4f8915094"
      },
      "source": [
        "print(session.run(nn.tanh([-2., -1., 0., 1., 2.])))"
      ],
      "execution_count": 6,
      "outputs": [
        {
          "output_type": "stream",
          "text": [
            "[-0.9640276 -0.7615942  0.         0.7615942  0.9640276]\n"
          ],
          "name": "stdout"
        }
      ]
    },
    {
      "cell_type": "markdown",
      "metadata": {
        "id": "ynjHBQetc7mo"
      },
      "source": [
        "### Función softsign\r\n",
        "- Versión contínua de la función sing\r\n",
        "- No es derivable\r\n",
        "\r\n",
        "$$f(x) = \\frac{x}{|x|+1}$$"
      ]
    },
    {
      "cell_type": "code",
      "metadata": {
        "colab": {
          "base_uri": "https://localhost:8080/"
        },
        "id": "0heDqgVEc2Ws",
        "outputId": "5e960c33-edfd-4683-8e5e-7fc819d8b853"
      },
      "source": [
        "print(session.run(nn.softsign([-2., -1., 0., 1., 2.])))"
      ],
      "execution_count": null,
      "outputs": [
        {
          "output_type": "stream",
          "text": [
            "[-0.6666667 -0.5        0.         0.5        0.6666667]\n"
          ],
          "name": "stdout"
        }
      ]
    },
    {
      "cell_type": "markdown",
      "metadata": {
        "id": "fG4_RjxatExN"
      },
      "source": [
        "### Función sotplus\n",
        "- Versión continua y derivable de la función ReLU\n",
        "- Asintota horizontal tienda a 0\n",
        "\n",
        "$$ f(x) = ln(e ^ {x}+1)$$ "
      ]
    },
    {
      "cell_type": "code",
      "metadata": {
        "id": "LSNfYxxTdY6E",
        "colab": {
          "base_uri": "https://localhost:8080/"
        },
        "outputId": "a28236a3-a9e2-4e7e-8edf-b51ff66e449c"
      },
      "source": [
        "print(session.run(nn.softplus([-2., -1., 0., 1., 2.])))"
      ],
      "execution_count": 7,
      "outputs": [
        {
          "output_type": "stream",
          "text": [
            "[0.12692805 0.31326166 0.6931472  1.3132616  2.126928  ]\n"
          ],
          "name": "stdout"
        }
      ]
    },
    {
      "cell_type": "markdown",
      "metadata": {
        "id": "albJ7M3yuo3R"
      },
      "source": [
        "### Función ELU (Exponencial lineal unitaria)\n",
        "- Similar a la softplus\n",
        "- Asintota horizontal tienda a -1\n",
        "\n",
        "$$ f(x) = e ^ x+1 \\ si \\ x <0$$\n",
        "$$ f(x) = x \\ si \\ x\\geq 0$$"
      ]
    },
    {
      "cell_type": "code",
      "metadata": {
        "colab": {
          "base_uri": "https://localhost:8080/"
        },
        "id": "PqOCxCaQubPP",
        "outputId": "66f8be27-00c4-4869-b5fa-a3b9c5470dbc"
      },
      "source": [
        "print(session.run(nn.elu([-2., -1., 0., 1., 2.])))"
      ],
      "execution_count": 8,
      "outputs": [
        {
          "output_type": "stream",
          "text": [
            "[-0.86466473 -0.63212055  0.          1.          2.        ]\n"
          ],
          "name": "stdout"
        }
      ]
    },
    {
      "cell_type": "markdown",
      "metadata": {
        "id": "lky_GRDp24L3"
      },
      "source": [
        "### Gráfico de las funciones de activación\n",
        "![](https://raw.githubusercontent.com/Asuskf/tensorflow1.x/main/resources/02-act.png)\n",
        "\n",
        "![](https://raw.githubusercontent.com/Asuskf/tensorflow1.x/main/resources/03-act.png)"
      ]
    },
    {
      "cell_type": "code",
      "metadata": {
        "id": "w4aNuAzUvbC4"
      },
      "source": [
        ""
      ],
      "execution_count": null,
      "outputs": []
    }
  ]
}