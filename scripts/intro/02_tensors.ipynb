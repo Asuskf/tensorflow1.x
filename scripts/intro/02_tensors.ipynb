{
  "nbformat": 4,
  "nbformat_minor": 0,
  "metadata": {
    "colab": {
      "name": "02-tensors.ipynb",
      "provenance": [],
      "collapsed_sections": [],
      "authorship_tag": "ABX9TyMLvxkg8tDnwD7oChq1HoBi",
      "include_colab_link": true
    },
    "kernelspec": {
      "name": "python3",
      "display_name": "Python 3"
    }
  },
  "cells": [
    {
      "cell_type": "markdown",
      "metadata": {
        "id": "view-in-github",
        "colab_type": "text"
      },
      "source": [
        "<a href=\"https://colab.research.google.com/github/Asuskf/tensorflow1.x/blob/main/scripts/intro/02_tensors.ipynb\" target=\"_parent\"><img src=\"https://colab.research.google.com/assets/colab-badge.svg\" alt=\"Open In Colab\"/></a>"
      ]
    },
    {
      "cell_type": "code",
      "metadata": {
        "colab": {
          "base_uri": "https://localhost:8080/"
        },
        "id": "iIDkRWYr3cT2",
        "outputId": "907dcdb8-2e86-4e55-e3c3-421758b4495f"
      },
      "source": [
        "#!pip install tensorflow==1.14\n",
        "%tensorflow_version 1.x"
      ],
      "execution_count": 1,
      "outputs": [
        {
          "output_type": "stream",
          "text": [
            "TensorFlow 1.x selected.\n"
          ],
          "name": "stdout"
        }
      ]
    },
    {
      "cell_type": "code",
      "metadata": {
        "colab": {
          "base_uri": "https://localhost:8080/"
        },
        "id": "9eLzLO7N5cxE",
        "outputId": "97ed7240-9828-46e8-894d-9d6bf5ab7a94"
      },
      "source": [
        "import tensorflow as tf\n",
        "print(tf.__version__)"
      ],
      "execution_count": 2,
      "outputs": [
        {
          "output_type": "stream",
          "text": [
            "1.15.2\n"
          ],
          "name": "stdout"
        }
      ]
    },
    {
      "cell_type": "markdown",
      "metadata": {
        "id": "_FgCC8M_5TSB"
      },
      "source": [
        "# Tensores y variables\n",
        "$\\vec{v} = (v_1, v_2, v_3, \\cdots, v_n) \\in \\mathbb R ^n$ es un tensor unidimensional (vector)\n",
        "\n",
        "$M = \n",
        "\\begin{pmatrix}\n",
        "1 & 2 & 3 \\\\\n",
        "4 & 5 & 6\n",
        "\\end{pmatrix} \\in \\mathbb R_{2\\times 3}$ es un tensor bidimensional (matriz)\n",
        "\n",
        "$ T \\in \\mathbb R_{n_1\\times n_2\\times \\cdots \\times n_k}$ es un tensor $k$ dimensional\n",
        "\n",
        "### Tensores fijos"
      ]
    },
    {
      "cell_type": "code",
      "metadata": {
        "colab": {
          "base_uri": "https://localhost:8080/"
        },
        "id": "6I8VWFK05eug",
        "outputId": "dedbe110-767c-4574-c007-8acace9ede78"
      },
      "source": [
        "zero_t = tf.zeros([3, 4, 6])\n",
        "zero_t"
      ],
      "execution_count": 6,
      "outputs": [
        {
          "output_type": "execute_result",
          "data": {
            "text/plain": [
              "<tf.Tensor 'zeros_2:0' shape=(3, 4, 6) dtype=float32>"
            ]
          },
          "metadata": {
            "tags": []
          },
          "execution_count": 6
        }
      ]
    },
    {
      "cell_type": "code",
      "metadata": {
        "colab": {
          "base_uri": "https://localhost:8080/"
        },
        "id": "gOQ-Xzt988dK",
        "outputId": "1ea45b12-047f-4854-c7b3-071576a156d8"
      },
      "source": [
        "ones_t = tf.ones([3, 4])\n",
        "ones_t"
      ],
      "execution_count": 8,
      "outputs": [
        {
          "output_type": "execute_result",
          "data": {
            "text/plain": [
              "<tf.Tensor 'ones_1:0' shape=(3, 4) dtype=float32>"
            ]
          },
          "metadata": {
            "tags": []
          },
          "execution_count": 8
        }
      ]
    },
    {
      "cell_type": "code",
      "metadata": {
        "colab": {
          "base_uri": "https://localhost:8080/"
        },
        "id": "Z2aqMTYJ_t44",
        "outputId": "96f970c9-dad4-46b0-d582-2b68830a4605"
      },
      "source": [
        "filled_t = tf.fill([4, 5, 2], 1988)\n",
        "filled_t"
      ],
      "execution_count": 11,
      "outputs": [
        {
          "output_type": "execute_result",
          "data": {
            "text/plain": [
              "<tf.Tensor 'Fill_2:0' shape=(4, 5, 2) dtype=int32>"
            ]
          },
          "metadata": {
            "tags": []
          },
          "execution_count": 11
        }
      ]
    },
    {
      "cell_type": "code",
      "metadata": {
        "colab": {
          "base_uri": "https://localhost:8080/"
        },
        "id": "RL5ZwERi_3Xs",
        "outputId": "c95252f5-643e-4eea-e20f-5886602d33d5"
      },
      "source": [
        "cte_t = tf.constant([1, 2, 3, 4, 5])\n",
        "cte_t"
      ],
      "execution_count": 12,
      "outputs": [
        {
          "output_type": "execute_result",
          "data": {
            "text/plain": [
              "<tf.Tensor 'Const:0' shape=(5,) dtype=int32>"
            ]
          },
          "metadata": {
            "tags": []
          },
          "execution_count": 12
        }
      ]
    },
    {
      "cell_type": "markdown",
      "metadata": {
        "id": "tHuTu4nWAN2I"
      },
      "source": [
        "### Tensores por tamaño"
      ]
    },
    {
      "cell_type": "code",
      "metadata": {
        "colab": {
          "base_uri": "https://localhost:8080/"
        },
        "id": "8qwuYMIfAIPG",
        "outputId": "213893f2-a0fc-482f-98d4-4fd823c5f42f"
      },
      "source": [
        "zero_sim = tf.zeros_like(cte_t)\n",
        "zero_sim"
      ],
      "execution_count": 14,
      "outputs": [
        {
          "output_type": "execute_result",
          "data": {
            "text/plain": [
              "<tf.Tensor 'zeros_like_1:0' shape=(5,) dtype=int32>"
            ]
          },
          "metadata": {
            "tags": []
          },
          "execution_count": 14
        }
      ]
    },
    {
      "cell_type": "code",
      "metadata": {
        "colab": {
          "base_uri": "https://localhost:8080/"
        },
        "id": "VfYcXTD1AMj4",
        "outputId": "a283197b-8b5f-4577-b196-a6f012c1b5d4"
      },
      "source": [
        "ones_sim = tf.ones_like(cte_t)\n",
        "ones_sim"
      ],
      "execution_count": 16,
      "outputs": [
        {
          "output_type": "execute_result",
          "data": {
            "text/plain": [
              "<tf.Tensor 'ones_like_1:0' shape=(5,) dtype=int32>"
            ]
          },
          "metadata": {
            "tags": []
          },
          "execution_count": 16
        }
      ]
    },
    {
      "cell_type": "markdown",
      "metadata": {
        "id": "aOtaBVufAh6X"
      },
      "source": [
        "### Tensores en forma de secuencia\n",
        "- linspace()\n",
        "- range()"
      ]
    },
    {
      "cell_type": "code",
      "metadata": {
        "colab": {
          "base_uri": "https://localhost:8080/"
        },
        "id": "YbOaHHFRAfbi",
        "outputId": "64d1e5ba-b1ee-4427-e292-fa6fe4fc0296"
      },
      "source": [
        "sec_t = tf.linspace(start=0.0, stop=1.0, num=5)\n",
        "sec_t"
      ],
      "execution_count": 18,
      "outputs": [
        {
          "output_type": "execute_result",
          "data": {
            "text/plain": [
              "<tf.Tensor 'LinSpace_1:0' shape=(5,) dtype=float32>"
            ]
          },
          "metadata": {
            "tags": []
          },
          "execution_count": 18
        }
      ]
    },
    {
      "cell_type": "markdown",
      "metadata": {
        "id": "PuiuMvkqBQoE"
      },
      "source": [
        "El resultado anterior sería el tensor $[0.0, 0.25, 0.5, 0.75, 1.0]$"
      ]
    },
    {
      "cell_type": "code",
      "metadata": {
        "colab": {
          "base_uri": "https://localhost:8080/"
        },
        "id": "sn69NfU-A17R",
        "outputId": "983e3e94-aaef-4e38-befe-03f6092bde65"
      },
      "source": [
        "range_seq = tf.range(start=5.0, limit=15.0, delta=4.0)\n",
        "range_seq"
      ],
      "execution_count": 20,
      "outputs": [
        {
          "output_type": "execute_result",
          "data": {
            "text/plain": [
              "<tf.Tensor 'range_1:0' shape=(3,) dtype=float32>"
            ]
          },
          "metadata": {
            "tags": []
          },
          "execution_count": 20
        }
      ]
    },
    {
      "cell_type": "markdown",
      "metadata": {
        "id": "WRmAa-K4D2wP"
      },
      "source": [
        "El resultado anterior sería el tensor $[5, 9, 13]$"
      ]
    },
    {
      "cell_type": "markdown",
      "metadata": {
        "id": "apGxcUa0EHSl"
      },
      "source": [
        "### Tensores aleatorios\n"
      ]
    },
    {
      "cell_type": "code",
      "metadata": {
        "colab": {
          "base_uri": "https://localhost:8080/"
        },
        "id": "Ctc0ZpFqDuPt",
        "outputId": "e238d249-e45e-448b-fbcc-f8340ab4cd71"
      },
      "source": [
        "rand_unif_f = tf.random_uniform([3 ,4], minval=0, maxval=1)\n",
        "rand_unif_f"
      ],
      "execution_count": 23,
      "outputs": [
        {
          "output_type": "execute_result",
          "data": {
            "text/plain": [
              "<tf.Tensor 'random_uniform_1:0' shape=(3, 4) dtype=float32>"
            ]
          },
          "metadata": {
            "tags": []
          },
          "execution_count": 23
        }
      ]
    },
    {
      "cell_type": "code",
      "metadata": {
        "colab": {
          "base_uri": "https://localhost:8080/"
        },
        "id": "T6Kv_Fk4FIfj",
        "outputId": "8856a5b1-1a63-45b7-a12f-6a7e3f0bffee"
      },
      "source": [
        "rand_norm_t = tf.random_normal([3, 4], mean=0.0, stddev=1.0)\n",
        "rand_norm_t"
      ],
      "execution_count": 26,
      "outputs": [
        {
          "output_type": "execute_result",
          "data": {
            "text/plain": [
              "<tf.Tensor 'random_normal_2:0' shape=(3, 4) dtype=float32>"
            ]
          },
          "metadata": {
            "tags": []
          },
          "execution_count": 26
        }
      ]
    },
    {
      "cell_type": "code",
      "metadata": {
        "colab": {
          "base_uri": "https://localhost:8080/"
        },
        "id": "iXWaKzbnFgTE",
        "outputId": "c2a0b176-5c06-4296-b8ef-7289665965b8"
      },
      "source": [
        "rand_trunc_normal_t = tf.truncated_normal([3, 4], mean=0.0, stddev=1.0)\n",
        "rand_trunc_normal_t"
      ],
      "execution_count": 27,
      "outputs": [
        {
          "output_type": "execute_result",
          "data": {
            "text/plain": [
              "<tf.Tensor 'truncated_normal:0' shape=(3, 4) dtype=float32>"
            ]
          },
          "metadata": {
            "tags": []
          },
          "execution_count": 27
        }
      ]
    },
    {
      "cell_type": "code",
      "metadata": {
        "colab": {
          "base_uri": "https://localhost:8080/"
        },
        "id": "deutUGytFxvZ",
        "outputId": "46b0b4a1-f52c-45da-b5ef-bebd39e2129c"
      },
      "source": [
        "tf.random_shuffle(rand_unif_f)"
      ],
      "execution_count": 28,
      "outputs": [
        {
          "output_type": "execute_result",
          "data": {
            "text/plain": [
              "<tf.Tensor 'RandomShuffle:0' shape=(3, 4) dtype=float32>"
            ]
          },
          "metadata": {
            "tags": []
          },
          "execution_count": 28
        }
      ]
    },
    {
      "cell_type": "code",
      "metadata": {
        "colab": {
          "base_uri": "https://localhost:8080/"
        },
        "id": "h0vs43yQF2m4",
        "outputId": "61965bc3-aebb-40cb-fa38-5bada29d20c8"
      },
      "source": [
        "tf.random_crop(rand_norm_t, [2, 6])"
      ],
      "execution_count": 29,
      "outputs": [
        {
          "output_type": "execute_result",
          "data": {
            "text/plain": [
              "<tf.Tensor 'random_crop:0' shape=(2, 6) dtype=float32>"
            ]
          },
          "metadata": {
            "tags": []
          },
          "execution_count": 29
        }
      ]
    },
    {
      "cell_type": "markdown",
      "metadata": {
        "id": "oyZoksiIGNCc"
      },
      "source": [
        "### Variables"
      ]
    },
    {
      "cell_type": "code",
      "metadata": {
        "colab": {
          "base_uri": "https://localhost:8080/"
        },
        "id": "rpBIllCeF-hY",
        "outputId": "19230397-bf3b-4b98-a0c3-a5f3b3171c3b"
      },
      "source": [
        "tf.Variable(rand_norm_t)"
      ],
      "execution_count": 30,
      "outputs": [
        {
          "output_type": "execute_result",
          "data": {
            "text/plain": [
              "<tf.Variable 'Variable:0' shape=(3, 4) dtype=float32_ref>"
            ]
          },
          "metadata": {
            "tags": []
          },
          "execution_count": 30
        }
      ]
    },
    {
      "cell_type": "code",
      "metadata": {
        "colab": {
          "base_uri": "https://localhost:8080/"
        },
        "id": "ZGo6-0c5GTNd",
        "outputId": "6fe69030-0bf9-4d75-a918-38b24f143ea4"
      },
      "source": [
        "tf.convert_to_tensor(1988)"
      ],
      "execution_count": 31,
      "outputs": [
        {
          "output_type": "execute_result",
          "data": {
            "text/plain": [
              "<tf.Tensor 'Const_1:0' shape=() dtype=int32>"
            ]
          },
          "metadata": {
            "tags": []
          },
          "execution_count": 31
        }
      ]
    },
    {
      "cell_type": "code",
      "metadata": {
        "colab": {
          "base_uri": "https://localhost:8080/"
        },
        "id": "zivhw7BEGc27",
        "outputId": "519e5cca-0944-451a-f0e2-bbffe0835738"
      },
      "source": [
        "tf.convert_to_tensor([1, 2, 3, 4, 5])"
      ],
      "execution_count": 32,
      "outputs": [
        {
          "output_type": "execute_result",
          "data": {
            "text/plain": [
              "<tf.Tensor 'Const_2:0' shape=(5,) dtype=int32>"
            ]
          },
          "metadata": {
            "tags": []
          },
          "execution_count": 32
        }
      ]
    },
    {
      "cell_type": "code",
      "metadata": {
        "id": "YcUp-D_pGh3K"
      },
      "source": [
        ""
      ],
      "execution_count": null,
      "outputs": []
    }
  ]
}