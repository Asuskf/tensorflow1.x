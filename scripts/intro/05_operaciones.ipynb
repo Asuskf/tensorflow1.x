{
  "nbformat": 4,
  "nbformat_minor": 0,
  "metadata": {
    "colab": {
      "name": "05-operaciones.ipynb",
      "provenance": [],
      "authorship_tag": "ABX9TyPhsbxeGuLcWlYDKYwoH6bC",
      "include_colab_link": true
    },
    "kernelspec": {
      "name": "python3",
      "display_name": "Python 3"
    }
  },
  "cells": [
    {
      "cell_type": "markdown",
      "metadata": {
        "id": "view-in-github",
        "colab_type": "text"
      },
      "source": [
        "<a href=\"https://colab.research.google.com/github/Asuskf/tensorflow1.x/blob/main/scripts/intro/05_operaciones.ipynb\" target=\"_parent\"><img src=\"https://colab.research.google.com/assets/colab-badge.svg\" alt=\"Open In Colab\"/></a>"
      ]
    },
    {
      "cell_type": "code",
      "metadata": {
        "colab": {
          "base_uri": "https://localhost:8080/"
        },
        "id": "WCQfdUKOuHtH",
        "outputId": "4497897f-a5bc-45ce-af22-d0d986237438"
      },
      "source": [
        "#!pip install tensorflow==1.14\n",
        "%tensorflow_version 1.x\n",
        "import numpy as np\n",
        "import tensorflow as tf\n",
        "print(tf.__version__)"
      ],
      "execution_count": null,
      "outputs": [
        {
          "output_type": "stream",
          "text": [
            "TensorFlow 1.x selected.\n",
            "1.15.2\n"
          ],
          "name": "stdout"
        }
      ]
    },
    {
      "cell_type": "code",
      "metadata": {
        "id": "vmMXyauOuOQQ"
      },
      "source": [
        "session = tf.Session()"
      ],
      "execution_count": null,
      "outputs": []
    },
    {
      "cell_type": "markdown",
      "metadata": {
        "id": "_iGQVUDuuU95"
      },
      "source": [
        "### Operaciones aritméticas"
      ]
    },
    {
      "cell_type": "code",
      "metadata": {
        "id": "6HzJ9pcxuSaY"
      },
      "source": [
        "x = 3 \n",
        "y = 4"
      ],
      "execution_count": null,
      "outputs": []
    },
    {
      "cell_type": "code",
      "metadata": {
        "colab": {
          "base_uri": "https://localhost:8080/"
        },
        "id": "rX3ZSkvjubDo",
        "outputId": "36cabdbe-cb66-414e-fa3d-d440b17720c8"
      },
      "source": [
        "print(session.run(tf.add(x, y)))"
      ],
      "execution_count": null,
      "outputs": [
        {
          "output_type": "stream",
          "text": [
            "7\n"
          ],
          "name": "stdout"
        }
      ]
    },
    {
      "cell_type": "code",
      "metadata": {
        "colab": {
          "base_uri": "https://localhost:8080/"
        },
        "id": "wPo6_cMVuft9",
        "outputId": "7d54dd5a-c8ac-4920-b909-0b04050a35c3"
      },
      "source": [
        "print(session.run(tf.multiply(x, y)))"
      ],
      "execution_count": null,
      "outputs": [
        {
          "output_type": "stream",
          "text": [
            "12\n"
          ],
          "name": "stdout"
        }
      ]
    },
    {
      "cell_type": "code",
      "metadata": {
        "colab": {
          "base_uri": "https://localhost:8080/"
        },
        "id": "K7RxgSQxultG",
        "outputId": "ce040cd0-6b25-4c37-86ee-1e39eaf5c4b5"
      },
      "source": [
        "print(session.run(tf.div(x, y)))"
      ],
      "execution_count": null,
      "outputs": [
        {
          "output_type": "stream",
          "text": [
            "WARNING:tensorflow:From <ipython-input-6-c10df6eaeb55>:1: div (from tensorflow.python.ops.math_ops) is deprecated and will be removed in a future version.\n",
            "Instructions for updating:\n",
            "Deprecated in favor of operator or tf.math.divide.\n",
            "0\n"
          ],
          "name": "stdout"
        }
      ]
    },
    {
      "cell_type": "code",
      "metadata": {
        "colab": {
          "base_uri": "https://localhost:8080/"
        },
        "id": "aeVPr-yMuq3x",
        "outputId": "84173886-fa3f-4372-ce2b-91068d143089"
      },
      "source": [
        "print(session.run(tf.truediv(x, y)))"
      ],
      "execution_count": null,
      "outputs": [
        {
          "output_type": "stream",
          "text": [
            "0.75\n"
          ],
          "name": "stdout"
        }
      ]
    },
    {
      "cell_type": "code",
      "metadata": {
        "colab": {
          "base_uri": "https://localhost:8080/"
        },
        "id": "NkaSkWAevCUE",
        "outputId": "55cfe319-8487-4e3b-efe8-87c2b5ad0585"
      },
      "source": [
        "print(session.run(tf.floor_div(7.0, 3.0)))"
      ],
      "execution_count": null,
      "outputs": [
        {
          "output_type": "stream",
          "text": [
            "2.0\n"
          ],
          "name": "stdout"
        }
      ]
    },
    {
      "cell_type": "code",
      "metadata": {
        "colab": {
          "base_uri": "https://localhost:8080/"
        },
        "id": "rZ7gWs3RvKzL",
        "outputId": "fc2e89c1-8b2f-4d47-d411-e5843780acf1"
      },
      "source": [
        "print(session.run(tf.mod(23.0, 5.0)))"
      ],
      "execution_count": null,
      "outputs": [
        {
          "output_type": "stream",
          "text": [
            "3.0\n"
          ],
          "name": "stdout"
        }
      ]
    },
    {
      "cell_type": "code",
      "metadata": {
        "colab": {
          "base_uri": "https://localhost:8080/"
        },
        "id": "GKoRtavPvQzM",
        "outputId": "0f5d72c8-0a9b-48d0-bd4a-94748744c085"
      },
      "source": [
        "print(session.run(tf.cross([1.0, 0., 0.], [0., 1., 0.])))"
      ],
      "execution_count": null,
      "outputs": [
        {
          "output_type": "stream",
          "text": [
            "[0. 0. 1.]\n"
          ],
          "name": "stdout"
        }
      ]
    },
    {
      "cell_type": "markdown",
      "metadata": {
        "id": "Ls0v2FugvrIz"
      },
      "source": [
        "### Funciones matemáticas"
      ]
    },
    {
      "cell_type": "code",
      "metadata": {
        "id": "DdmoD3ugviIM"
      },
      "source": [
        "x = [-3., -2. ,-1., 0., 1., 2.]"
      ],
      "execution_count": null,
      "outputs": []
    },
    {
      "cell_type": "code",
      "metadata": {
        "colab": {
          "base_uri": "https://localhost:8080/"
        },
        "id": "8BiGRCpKxRbB",
        "outputId": "19e4ccb3-0e52-498d-f76f-3cf95ba4d5aa"
      },
      "source": [
        "print(session.run(tf.abs(x)))"
      ],
      "execution_count": null,
      "outputs": [
        {
          "output_type": "stream",
          "text": [
            "[3. 2. 1. 0. 1. 2.]\n"
          ],
          "name": "stdout"
        }
      ]
    },
    {
      "cell_type": "code",
      "metadata": {
        "colab": {
          "base_uri": "https://localhost:8080/"
        },
        "id": "CDEibdCJxWL5",
        "outputId": "b463a4bb-9c85-4a5c-c0d9-885255118082"
      },
      "source": [
        "print(session.run(tf.ceil(6.4)))"
      ],
      "execution_count": null,
      "outputs": [
        {
          "output_type": "stream",
          "text": [
            "7.0\n"
          ],
          "name": "stdout"
        }
      ]
    },
    {
      "cell_type": "code",
      "metadata": {
        "colab": {
          "base_uri": "https://localhost:8080/"
        },
        "id": "Hbi83qrbxcdG",
        "outputId": "03230a36-fa67-4ed4-af6a-9ae22fc9eb8d"
      },
      "source": [
        "print(session.run(tf.floor(6.4)))"
      ],
      "execution_count": null,
      "outputs": [
        {
          "output_type": "stream",
          "text": [
            "6.0\n"
          ],
          "name": "stdout"
        }
      ]
    },
    {
      "cell_type": "code",
      "metadata": {
        "colab": {
          "base_uri": "https://localhost:8080/"
        },
        "id": "tnGTCPYvxf95",
        "outputId": "c93a96bc-2f43-4153-f49a-7176259f728c"
      },
      "source": [
        "print(session.run(tf.round(6.6)))"
      ],
      "execution_count": null,
      "outputs": [
        {
          "output_type": "stream",
          "text": [
            "7.0\n"
          ],
          "name": "stdout"
        }
      ]
    },
    {
      "cell_type": "code",
      "metadata": {
        "colab": {
          "base_uri": "https://localhost:8080/"
        },
        "id": "BwTjByrixjbQ",
        "outputId": "16075821-e65e-4bfe-aa73-7d6da4383720"
      },
      "source": [
        "print(session.run(tf.sin(x)))"
      ],
      "execution_count": null,
      "outputs": [
        {
          "output_type": "stream",
          "text": [
            "[-0.14112    -0.9092974  -0.84147096  0.          0.84147096  0.9092974 ]\n"
          ],
          "name": "stdout"
        }
      ]
    },
    {
      "cell_type": "code",
      "metadata": {
        "colab": {
          "base_uri": "https://localhost:8080/"
        },
        "id": "x2u6onPWxl0i",
        "outputId": "577af6a0-e3d1-44da-d6c4-4615034ad58d"
      },
      "source": [
        "print(session.run(tf.cos(x)))"
      ],
      "execution_count": null,
      "outputs": [
        {
          "output_type": "stream",
          "text": [
            "[-0.9899925  -0.41614684  0.5403023   1.          0.5403023  -0.41614684]\n"
          ],
          "name": "stdout"
        }
      ]
    },
    {
      "cell_type": "code",
      "metadata": {
        "colab": {
          "base_uri": "https://localhost:8080/"
        },
        "id": "Ce93o_nvxnQR",
        "outputId": "7a03015d-919e-42d8-e461-b1b7c570d0de"
      },
      "source": [
        "print(session.run(tf.tan(x)))"
      ],
      "execution_count": null,
      "outputs": [
        {
          "output_type": "stream",
          "text": [
            "[ 0.14254655  2.1850398  -1.5574077   0.          1.5574077  -2.1850398 ]\n"
          ],
          "name": "stdout"
        }
      ]
    },
    {
      "cell_type": "code",
      "metadata": {
        "colab": {
          "base_uri": "https://localhost:8080/"
        },
        "id": "8oZ9OT_jxo0s",
        "outputId": "15a4b9f0-5ca8-4756-ba08-0d71102fba71"
      },
      "source": [
        "print(session.run(tf.exp(x)))"
      ],
      "execution_count": null,
      "outputs": [
        {
          "output_type": "stream",
          "text": [
            "[0.04978707 0.13533528 0.36787945 1.         2.7182817  7.389056  ]\n"
          ],
          "name": "stdout"
        }
      ]
    },
    {
      "cell_type": "code",
      "metadata": {
        "colab": {
          "base_uri": "https://localhost:8080/"
        },
        "id": "2mhcurJmxtFr",
        "outputId": "1c545d1d-528d-41c2-e82d-435cd9339064"
      },
      "source": [
        "print(session.run(tf.log(x)))"
      ],
      "execution_count": null,
      "outputs": [
        {
          "output_type": "stream",
          "text": [
            "[      nan       nan       nan      -inf 0.        0.6931472]\n"
          ],
          "name": "stdout"
        }
      ]
    },
    {
      "cell_type": "code",
      "metadata": {
        "id": "8cLQIaMhx0O8"
      },
      "source": [
        "y = [3., 4., 7., -4., -3., 7.]"
      ],
      "execution_count": null,
      "outputs": []
    },
    {
      "cell_type": "code",
      "metadata": {
        "colab": {
          "base_uri": "https://localhost:8080/"
        },
        "id": "VxtLYMfrxu44",
        "outputId": "d670000c-7a51-4a45-a8f6-a286732533e9"
      },
      "source": [
        "print(session.run(tf.maximum(x, y)))"
      ],
      "execution_count": null,
      "outputs": [
        {
          "output_type": "stream",
          "text": [
            "[3. 4. 7. 0. 1. 7.]\n"
          ],
          "name": "stdout"
        }
      ]
    },
    {
      "cell_type": "code",
      "metadata": {
        "colab": {
          "base_uri": "https://localhost:8080/"
        },
        "id": "pc1nDNbQyC6r",
        "outputId": "73dc791f-9718-41bf-cbe7-b77ba9ab81da"
      },
      "source": [
        "print(session.run(tf.minimum(x, y)))"
      ],
      "execution_count": null,
      "outputs": [
        {
          "output_type": "stream",
          "text": [
            "[-3. -2. -1. -4. -3.  2.]\n"
          ],
          "name": "stdout"
        }
      ]
    },
    {
      "cell_type": "code",
      "metadata": {
        "colab": {
          "base_uri": "https://localhost:8080/"
        },
        "id": "7VzlGhE1yKPh",
        "outputId": "2e44006e-ab0a-46fc-9b01-927889cedb63"
      },
      "source": [
        "print(session.run(tf.negative(x)))"
      ],
      "execution_count": null,
      "outputs": [
        {
          "output_type": "stream",
          "text": [
            "[ 3.  2.  1. -0. -1. -2.]\n"
          ],
          "name": "stdout"
        }
      ]
    },
    {
      "cell_type": "code",
      "metadata": {
        "colab": {
          "base_uri": "https://localhost:8080/"
        },
        "id": "iIBeYPyuyNDq",
        "outputId": "3a44bf62-3d0b-4d81-e977-19088bc81cbd"
      },
      "source": [
        "print(session.run(tf.pow(x, y)))"
      ],
      "execution_count": null,
      "outputs": [
        {
          "output_type": "stream",
          "text": [
            "[-27.  16.  -1.  inf   1. 128.]\n"
          ],
          "name": "stdout"
        }
      ]
    },
    {
      "cell_type": "code",
      "metadata": {
        "colab": {
          "base_uri": "https://localhost:8080/"
        },
        "id": "oJ8rWyN0yQA6",
        "outputId": "bbf09277-f608-435a-bffd-36a88108c532"
      },
      "source": [
        "print(session.run(tf.sqrt(x)))"
      ],
      "execution_count": null,
      "outputs": [
        {
          "output_type": "stream",
          "text": [
            "[      nan       nan       nan 0.        1.        1.4142135]\n"
          ],
          "name": "stdout"
        }
      ]
    },
    {
      "cell_type": "code",
      "metadata": {
        "colab": {
          "base_uri": "https://localhost:8080/"
        },
        "id": "62PFF6S-yWFY",
        "outputId": "c328c32d-04e7-48a3-9278-60d356a53906"
      },
      "source": [
        "print(session.run(tf.rsqrt(x)))"
      ],
      "execution_count": null,
      "outputs": [
        {
          "output_type": "stream",
          "text": [
            "[       nan        nan        nan        inf 1.         0.70710677]\n"
          ],
          "name": "stdout"
        }
      ]
    },
    {
      "cell_type": "code",
      "metadata": {
        "colab": {
          "base_uri": "https://localhost:8080/"
        },
        "id": "4R_EW6sNyZ8P",
        "outputId": "529dc85f-18ec-46b2-9dcd-1f6c069b22be"
      },
      "source": [
        "print(session.run(tf.square(x)))"
      ],
      "execution_count": null,
      "outputs": [
        {
          "output_type": "stream",
          "text": [
            "[9. 4. 1. 0. 1. 4.]\n"
          ],
          "name": "stdout"
        }
      ]
    },
    {
      "cell_type": "code",
      "metadata": {
        "colab": {
          "base_uri": "https://localhost:8080/"
        },
        "id": "uB3_k5UVyf_I",
        "outputId": "af8b1fd3-9ab8-4f33-b1fc-73706435ab6b"
      },
      "source": [
        "print(session.run(tf.sign(x)))"
      ],
      "execution_count": null,
      "outputs": [
        {
          "output_type": "stream",
          "text": [
            "[-1. -1. -1.  0.  1.  1.]\n"
          ],
          "name": "stdout"
        }
      ]
    },
    {
      "cell_type": "markdown",
      "metadata": {
        "id": "k1WFCC_lypK6"
      },
      "source": [
        "### Otras funciones"
      ]
    },
    {
      "cell_type": "code",
      "metadata": {
        "colab": {
          "base_uri": "https://localhost:8080/"
        },
        "id": "jv1Qn8KSyjEs",
        "outputId": "1425048a-61db-4a77-f2ba-85cd1efd110d"
      },
      "source": [
        "print(session.run(tf.digamma(x)))"
      ],
      "execution_count": null,
      "outputs": [
        {
          "output_type": "stream",
          "text": [
            "[       inf        inf        inf        inf -0.5772159  0.4227842]\n"
          ],
          "name": "stdout"
        }
      ]
    },
    {
      "cell_type": "code",
      "metadata": {
        "colab": {
          "base_uri": "https://localhost:8080/"
        },
        "id": "4GHGjI41ytZk",
        "outputId": "eb3f710e-71ce-4c11-fb6c-1ab264066a40"
      },
      "source": [
        "print(session.run(tf.lbeta(x)))"
      ],
      "execution_count": null,
      "outputs": [
        {
          "output_type": "stream",
          "text": [
            "nan\n"
          ],
          "name": "stdout"
        }
      ]
    },
    {
      "cell_type": "code",
      "metadata": {
        "colab": {
          "base_uri": "https://localhost:8080/"
        },
        "id": "3VLKqwkHyveM",
        "outputId": "edda54fb-0a43-424d-e400-fbaa6fc168e5"
      },
      "source": [
        "print(session.run(tf.lgamma(x)))"
      ],
      "execution_count": null,
      "outputs": [
        {
          "output_type": "stream",
          "text": [
            "[inf inf inf inf  0.  0.]\n"
          ],
          "name": "stdout"
        }
      ]
    },
    {
      "cell_type": "code",
      "metadata": {
        "colab": {
          "base_uri": "https://localhost:8080/"
        },
        "id": "8xqINSHuyxdx",
        "outputId": "d78cd59d-a6d4-4039-8baa-9cc3adbbd232"
      },
      "source": [
        "print(session.run(tf.erf(x)))"
      ],
      "execution_count": null,
      "outputs": [
        {
          "output_type": "stream",
          "text": [
            "[-0.9999779 -0.9953223 -0.8427008  0.         0.8427008  0.9953223]\n"
          ],
          "name": "stdout"
        }
      ]
    },
    {
      "cell_type": "code",
      "metadata": {
        "colab": {
          "base_uri": "https://localhost:8080/"
        },
        "id": "ft6oGhudy1bt",
        "outputId": "32a756f3-d357-416e-fac0-ccea12d48f4a"
      },
      "source": [
        "print(session.run(tf.erfc(x)))"
      ],
      "execution_count": null,
      "outputs": [
        {
          "output_type": "stream",
          "text": [
            "[1.999978   1.9953222  1.8427007  1.         0.1572992  0.00467773]\n"
          ],
          "name": "stdout"
        }
      ]
    },
    {
      "cell_type": "code",
      "metadata": {
        "colab": {
          "base_uri": "https://localhost:8080/"
        },
        "id": "77TVH0HIy4hr",
        "outputId": "4a457a0d-a540-4909-ed91-72cb1458d343"
      },
      "source": [
        "print(session.run(tf.squared_difference(x, y)))"
      ],
      "execution_count": null,
      "outputs": [
        {
          "output_type": "stream",
          "text": [
            "[36. 36. 64. 16. 16. 25.]\n"
          ],
          "name": "stdout"
        }
      ]
    },
    {
      "cell_type": "code",
      "metadata": {
        "colab": {
          "base_uri": "https://localhost:8080/"
        },
        "id": "qCBMfQSSy73D",
        "outputId": "1c03181d-4956-45f8-ca7b-00538dd9f7a5"
      },
      "source": [
        "print(session.run(tf.tan(3.1416/4.)))"
      ],
      "execution_count": null,
      "outputs": [
        {
          "output_type": "stream",
          "text": [
            "1.0000036\n"
          ],
          "name": "stdout"
        }
      ]
    },
    {
      "cell_type": "markdown",
      "metadata": {
        "id": "YKUcVq7kzNZW"
      },
      "source": [
        "### Funciones propias\n",
        "\n",
        "$$ y = 5x^2 - 7x + 15 $$"
      ]
    },
    {
      "cell_type": "code",
      "metadata": {
        "colab": {
          "base_uri": "https://localhost:8080/"
        },
        "id": "Y9gpm0jzzHkJ",
        "outputId": "8afcc4b9-af50-44fb-e5a3-cf096c4ebc03"
      },
      "source": [
        "def custom_parabola(value):\n",
        "    return tf.subtract(5 * tf.square(value), 7 * value) + 15\n",
        "print(session.run(custom_parabola(5)))"
      ],
      "execution_count": null,
      "outputs": [
        {
          "output_type": "stream",
          "text": [
            "105\n"
          ],
          "name": "stdout"
        }
      ]
    },
    {
      "cell_type": "code",
      "metadata": {
        "id": "fIY9zZPEzvFs"
      },
      "source": [
        ""
      ],
      "execution_count": null,
      "outputs": []
    }
  ]
}