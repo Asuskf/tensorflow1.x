{
  "nbformat": 4,
  "nbformat_minor": 0,
  "metadata": {
    "colab": {
      "name": "01-general-info.ipynb",
      "provenance": [],
      "authorship_tag": "ABX9TyMDfEaFSIts36Sjty3xaRxS",
      "include_colab_link": true
    },
    "kernelspec": {
      "name": "python3",
      "display_name": "Python 3"
    }
  },
  "cells": [
    {
      "cell_type": "markdown",
      "metadata": {
        "id": "view-in-github",
        "colab_type": "text"
      },
      "source": [
        "<a href=\"https://colab.research.google.com/github/Asuskf/tensorflow1.x/blob/main/scripts/intro/01_general_info.ipynb\" target=\"_parent\"><img src=\"https://colab.research.google.com/assets/colab-badge.svg\" alt=\"Open In Colab\"/></a>"
      ]
    },
    {
      "cell_type": "code",
      "metadata": {
        "colab": {
          "base_uri": "https://localhost:8080/"
        },
        "id": "_ZeYRobrniiT",
        "outputId": "5fc85276-0f63-49ca-c383-fc3eafe97047"
      },
      "source": [
        "#!pip install tensorflow==1.14\n",
        "%tensorflow_version 1.x"
      ],
      "execution_count": 1,
      "outputs": [
        {
          "output_type": "stream",
          "text": [
            "TensorFlow 1.x selected.\n"
          ],
          "name": "stdout"
        }
      ]
    },
    {
      "cell_type": "code",
      "metadata": {
        "colab": {
          "base_uri": "https://localhost:8080/"
        },
        "id": "IS2D9KucoFuX",
        "outputId": "6575a75d-b84b-4109-ca26-5b0f09c81431"
      },
      "source": [
        "import tensorflow as tf\n",
        "print(tf.__version__)"
      ],
      "execution_count": 2,
      "outputs": [
        {
          "output_type": "stream",
          "text": [
            "1.15.2\n"
          ],
          "name": "stdout"
        }
      ]
    },
    {
      "cell_type": "markdown",
      "metadata": {
        "id": "ZDtO0lYZnrRh"
      },
      "source": [
        "# Comó funciona Tensorflow\n",
        "###Fases \n",
        "\n",
        "1. Importación o generación del conjunto de datos.\n",
        "2. Transformación y normalización de los datos.\n",
        "3. Dividir el conjunto de datos en conjunto de: entrenamiento, validación y de test.\n",
        "4. Definir los hiperparámetros del algoritmo\n",
        "5. Inicializar variables y placeholders\n",
        "6. Definir la estructura del modelo del algoritmo.\n",
        "7. Declarar la función de pérdidas (Loss function).\n",
        "8. Inicilizar y entrenar el modelo anterior.\n",
        "9. Evaluación del modelo.\n",
        "10. Ajustar hiper parámetros.\n",
        "11. Publicar (subir a producción) y predecir nuevos resultados.\n"
      ]
    },
    {
      "cell_type": "code",
      "metadata": {
        "id": "xp0aD_YuoJVd"
      },
      "source": [
        ""
      ],
      "execution_count": null,
      "outputs": []
    }
  ]
}